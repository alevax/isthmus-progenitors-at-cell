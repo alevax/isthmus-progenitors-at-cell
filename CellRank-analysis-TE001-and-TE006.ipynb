{
 "cells": [
  {
   "cell_type": "markdown",
   "id": "28dcf7e4-f7a2-4afe-bd58-c0cce3c913b0",
   "metadata": {},
   "source": [
    "# CellRank Analysis of mouse intestinal crypt cells (TE001 and TE006)"
   ]
  },
  {
   "cell_type": "markdown",
   "id": "fd78aec8-50ef-4230-8fed-82bdfceda686",
   "metadata": {
    "execution": {
     "iopub.execute_input": "2023-12-21T16:30:51.682588Z",
     "iopub.status.busy": "2023-12-21T16:30:51.682372Z",
     "iopub.status.idle": "2023-12-21T16:30:51.686527Z",
     "shell.execute_reply": "2023-12-21T16:30:51.686090Z",
     "shell.execute_reply.started": "2023-12-21T16:30:51.682533Z"
    }
   },
   "source": [
    "### Import Libraries"
   ]
  },
  {
   "cell_type": "code",
   "execution_count": 1,
   "id": "6bb6490f-48c0-4f0f-a2b9-cbb4245f02d3",
   "metadata": {
    "execution": {
     "iopub.execute_input": "2023-12-21T19:15:06.607805Z",
     "iopub.status.busy": "2023-12-21T19:15:06.607564Z",
     "iopub.status.idle": "2023-12-21T19:15:23.679585Z",
     "shell.execute_reply": "2023-12-21T19:15:23.679105Z",
     "shell.execute_reply.started": "2023-12-21T19:15:06.607754Z"
    },
    "tags": []
   },
   "outputs": [],
   "source": [
    "import sys\n",
    "import cellrank as cr\n",
    "import scanpy as sc\n",
    "import numpy as np\n",
    "import pandas as pd\n",
    "import os\n",
    "from matplotlib import rc_context\n",
    "import matplotlib.pyplot as plt\n",
    "\n",
    "import warnings\n",
    "warnings.simplefilter(\"ignore\", category=UserWarning)"
   ]
  },
  {
   "cell_type": "markdown",
   "id": "1cf01602-b012-4229-b78a-ffcc65dc4701",
   "metadata": {},
   "source": [
    "### Parameters Setting"
   ]
  },
  {
   "cell_type": "code",
   "execution_count": 3,
   "id": "4f0be0ad-d1b8-4b93-bbb7-4ee67650319b",
   "metadata": {
    "execution": {
     "iopub.execute_input": "2023-12-21T19:17:59.410881Z",
     "iopub.status.busy": "2023-12-21T19:17:59.410548Z",
     "iopub.status.idle": "2023-12-21T19:17:59.414848Z",
     "shell.execute_reply": "2023-12-21T19:17:59.414368Z",
     "shell.execute_reply.started": "2023-12-21T19:17:59.410860Z"
    },
    "tags": []
   },
   "outputs": [],
   "source": [
    "# a.1) setup path to data-containing folder and savings and parameters\n",
    "base_path = \"~/Clouds/Dropbox/isc-data-at-cell/\"\n",
    "input_dir = os.path.join(base_path,\"input\")\n",
    "figures_dir = os.path.join(base_path,\"figures\")\n",
    "\n",
    "sc.settings.set_figure_params(frameon=False, dpi=100)\n",
    "cr.settings.verbosity = 2\n",
    "\n",
    "n_macro_CytoTRACE = 8 # number of macrostates \n",
    "\n",
    "cytotrace_markers = ['Smarca5','Rbbp7','Tcerg1','Hnrnpd','Hmg20b','Nelfe','Ube2i','Etv5','Ubn1','Mbd3','Dek','Maz',\n",
    "                     'Itgb3bp','Ilf2','Pa2g4'] # Id3','Hnf4g','Atoh1','Spdef','Neurod1' markers upregulated in cytotrace (Fig 1e) "
   ]
  },
  {
   "cell_type": "markdown",
   "id": "b33267e0-5810-477d-b279-7f93fc117077",
   "metadata": {
    "execution": {
     "iopub.execute_input": "2023-12-21T19:20:50.673233Z",
     "iopub.status.busy": "2023-12-21T19:20:50.673051Z",
     "iopub.status.idle": "2023-12-21T19:20:50.676138Z",
     "shell.execute_reply": "2023-12-21T19:20:50.675721Z",
     "shell.execute_reply.started": "2023-12-21T19:20:50.673214Z"
    }
   },
   "source": [
    "### Input Data Definition"
   ]
  },
  {
   "cell_type": "code",
   "execution_count": null,
   "id": "e4da7e38-733f-4bd3-aca7-87ae314dffcf",
   "metadata": {},
   "outputs": [],
   "source": [
    "# Counts data (exported from Seurat@RNA assay)\n",
    "counts_h5ad = input_dir + \"TE001-counts.h5ad\"\n",
    "# Metadata for TE001 from VIPER analysis\n",
    "metadata_csv = input_dir + \"TE001-metadata-umap-and-clusters-for-paper.csv\"\n",
    "# Metadata for MRs lineage enrichment for TE001 (three lineages from step 1 of iterative clustering algorihtm)\n",
    "mrs_enrichment_csv = h5ad_path + \"TE001-mrs-enrichment-table-3D-plot.csv\""
   ]
  },
  {
   "cell_type": "markdown",
   "id": "3c5fe130-57dd-4e00-b4f0-e24da41fbc33",
   "metadata": {},
   "source": [
    "### Load Datasets and Processed Data"
   ]
  },
  {
   "cell_type": "code",
   "execution_count": null,
   "id": "1eb01a4f-9261-4d1f-98f6-d4e303f0b0db",
   "metadata": {},
   "outputs": [],
   "source": [
    "adata = sc.read_h5ad(counts_h5ad) # load in object\n",
    "metadata = pd.read_csv(metadata_csv)\n",
    "mrs_enrichment = pd.read_csv(mrs_enrichment_csv)\n",
    "\n",
    "# a.6) process metadata in adata\n",
    "specified_columns = [\"cell_id\", \"nCount_RNA\", \"nFeature_RNA\", \"mt_percent\", \"cytotrace_score.ges\",\n",
    "                     \"cytotrace_gcs.ges\", \"S.Score\", \"G2M.Score\", \"Phase\", \"seurat_clusters\", \"singleR_labels\", \"stemness_index.ges\"]\n",
    "\n",
    "adata.obs = adata.obs[specified_columns]\n",
    "cells_to_analyze = metadata['cell_id'] # cells to analyze\n",
    "adata = adata[adata.obs_names.isin(cells_to_analyze)] # subset cells to analyze in adata\n",
    "\n",
    "adata.obs = pd.merge(adata.obs, metadata, on='cell_id', how='left').set_index('cell_id') # merge metadata and include into counts object\n",
    "adata.obs = pd.merge(adata.obs, mrs_enrichment, on='cell_id', how='left').set_index('cell_id') # merge metadata and include into counts object\n",
    "\n",
    "adata.obs['seurat_clusters'] = adata.obs['seurat_clusters'].astype('category') # clusters as categorical variable\n",
    "\n",
    "# a.7) set UMAP coordinates to those obtained at protein activty\n",
    "umap_coordinates = np.array(adata.obs.loc[:, ['UMAP_1_scanpy','UMAP_2_scanpy']]) \n",
    "adata.obsm['X_umap'] = umap_coordinates\n",
    "\n",
    "# a.8) set MR enrichment coordinates to those obtained at protein activty\n",
    "enr1_coordinates = np.array(adata.obs.loc[:, ['absorptive_lineage','secretor_lineage']]) \n",
    "adata.obsm['X_enr1'] = enr1_coordinates\n",
    "\n",
    "enr2_coordinates = np.array(adata.obs.loc[:, ['progenitors_lineage','secretor_lineage']]) \n",
    "adata.obsm['X_enr2'] = enr2_coordinates\n",
    "\n",
    "\n",
    "# a.9) Include metadata of terminal states for CellRank analysis\n",
    "adata.obs['terminal_states'] = adata.obs['iter_cluster_id_with_paneth']\n",
    "adata.obs['terminal_states'].iloc[adata.obs['terminal_states'].isin([\"stem-1\",\"stem-2\"])] = np.nan\n",
    "\n",
    "print(\"adata contains the counts for the TE001 dataset\")\n",
    "counts = adata.raw.to_adata() # the adata already contains the counts matrix"
   ]
  },
  {
   "cell_type": "markdown",
   "id": "4a73aa9d-aa25-4ca4-aa2f-6b4808599b44",
   "metadata": {},
   "source": [
    "## CellRank2 analysis with CytoTRACE Kernel\n",
    "Import CellRank2 kernel, compute CytoTRACE score with CellRank (sparse), and compute transition matrix for CellRank2 analysis"
   ]
  },
  {
   "cell_type": "markdown",
   "id": "a8d29fcb-bb0e-4942-8b9b-f225d3836de7",
   "metadata": {},
   "source": [
    "### Processing counts for CellRank analysis"
   ]
  },
  {
   "cell_type": "code",
   "execution_count": 7,
   "id": "191b92e9-fb50-43a1-a359-27da277566c2",
   "metadata": {},
   "outputs": [
    {
     "name": "stdout",
     "output_type": "stream",
     "text": [
      "Preprocessing counts matrix for CellRank 2 analysis\n"
     ]
    },
    {
     "name": "stderr",
     "output_type": "stream",
     "text": [
      "OMP: Info #276: omp_set_nested routine deprecated, please use omp_set_max_active_levels instead.\n"
     ]
    }
   ],
   "source": [
    "print(\"Preprocessing counts matrix for CellRank 2 analysis\")\n",
    "sc.tl.pca(adata, random_state=0)\n",
    "sc.pp.neighbors(adata, random_state=0)"
   ]
  },
  {
   "cell_type": "code",
   "execution_count": 8,
   "id": "4f4fe654-64d0-4c1f-98f4-71a7e31e9e2f",
   "metadata": {},
   "outputs": [
    {
     "name": "stdout",
     "output_type": "stream",
     "text": [
      "Working with CytoTRACE kernel\n",
      "WARNING: Did not normalize spliced as it looks processed already. To enforce normalization, set `enforce=True`.\n",
      "WARNING: Did not normalize unspliced as it looks processed already. To enforce normalization, set `enforce=True`.\n",
      "Normalized count data: X.\n",
      "computing neighbors\n",
      "    finished (0:00:00) --> added \n",
      "    'distances' and 'connectivities', weighted adjacency matrices (adata.obsp)\n",
      "computing moments based on connectivities\n",
      "    finished (0:00:06) --> added \n",
      "    'Ms' and 'Mu', moments of un/spliced abundances (adata.layers)\n",
      "Computing CytoTRACE score with `15385` genes\n",
      "Adding `adata.obs['ct_score']`\n",
      "       `adata.obs['ct_pseudotime']`\n",
      "       `adata.obs['ct_num_exp_genes']`\n",
      "       `adata.var['ct_gene_corr']`\n",
      "       `adata.var['ct_correlates']`\n",
      "       `adata.uns['ct_params']`\n",
      "    Finish (0:00:00)\n",
      "Computing transition matrix based on pseudotime\n"
     ]
    },
    {
     "name": "stderr",
     "output_type": "stream",
     "text": [
      "/Users/lucazanella7/mambaforge/lib/python3.10/site-packages/ipywidgets/widgets/widget.py:528: DeprecationWarning: The `ipykernel.comm.Comm` class has been deprecated. Please use the `comm` module instead.For creating comms, use the function `from comm import create_comm`.\n",
      "  self.comm = Comm(**args)\n"
     ]
    },
    {
     "data": {
      "application/vnd.jupyter.widget-view+json": {
       "model_id": "3e605a6274fb4815887ded37333569fe",
       "version_major": 2,
       "version_minor": 0
      },
      "text/plain": [
       "  0%|          | 0/3656 [00:00<?, ?cell/s]"
      ]
     },
     "metadata": {},
     "output_type": "display_data"
    },
    {
     "name": "stdout",
     "output_type": "stream",
     "text": [
      "    Finish (0:00:01)\n"
     ]
    }
   ],
   "source": [
    "### c) CytoTRACE kernel\n",
    "# c.1) Setup kernel\n",
    "print(\"Working with CytoTRACE kernel\")\n",
    "from cellrank.kernels import CytoTRACEKernel\n",
    "import scvelo as scv\n",
    "# CytoTRACE by default uses imputed data - a simple way to compute\n",
    "# k-NN imputed data is to use scVelo's moments function.\n",
    "# However, note that this function expects `spliced` counts because\n",
    "# it's designed for RNA velocity, so we're using a simple hack here:\n",
    "if 'spliced' not in adata.layers or 'unspliced' not in adata.layers:\n",
    "    adata.layers['spliced'] = adata.X\n",
    "    adata.layers['unspliced'] = adata.X\n",
    "scv.pp.moments(adata) # hack for CytoTRACEkernel\n",
    "\n",
    "ctk = CytoTRACEKernel(adata) # initialize the CellRank2 kernel\n",
    "\n",
    "# c.2) compute transition matrix\n",
    "ctk = ctk.compute_cytotrace().compute_transition_matrix(threshold_scheme=\"soft\",nu=0.5) # compute transition matrix\n"
   ]
  }
 ],
 "metadata": {
  "kernelspec": {
   "display_name": "Python 3 (ipykernel)",
   "language": "python",
   "name": "python3"
  },
  "language_info": {
   "codemirror_mode": {
    "name": "ipython",
    "version": 3
   },
   "file_extension": ".py",
   "mimetype": "text/x-python",
   "name": "python",
   "nbconvert_exporter": "python",
   "pygments_lexer": "ipython3",
   "version": "3.8.12"
  }
 },
 "nbformat": 4,
 "nbformat_minor": 5
}
